{
 "cells": [
  {
   "cell_type": "code",
   "execution_count": 1,
   "metadata": {},
   "outputs": [],
   "source": [
    "import numpy as np \n",
    "import pandas as pd\n",
    "import matplotlib.pyplot as plt\n",
    "import seaborn as sns\n",
    "\n"
   ]
  },
  {
   "cell_type": "markdown",
   "metadata": {},
   "source": [
    "Q 1\n",
    "\n",
    "1 python code is compiled or interrepted ?\n",
    " ans : a)python code is both compiled and interepted.\n",
    " "
   ]
  },
  {
   "cell_type": "markdown",
   "metadata": {},
   "source": [
    "2 why does the name of local variable start with an underscore discourged?\n",
    "  Ans :c)it indicate a privte variable of a class"
   ]
  },
  {
   "cell_type": "markdown",
   "metadata": {},
   "source": [
    "3 h0=you are fine ,h1=you are unwell. type 1 error in this case.\n",
    " Ans:a)you have covid but test say you dont"
   ]
  },
  {
   "cell_type": "markdown",
   "metadata": {},
   "source": [
    "4 Ans:a)68"
   ]
  },
  {
   "cell_type": "markdown",
   "metadata": {},
   "source": [
    "5 Ans:b)**"
   ]
  },
  {
   "cell_type": "code",
   "execution_count": 2,
   "metadata": {},
   "outputs": [],
   "source": [
    "#Q 2"
   ]
  },
  {
   "cell_type": "code",
   "execution_count": null,
   "metadata": {},
   "outputs": [],
   "source": [
    "#1 Ans \n",
    "s=input(\"enter a string:\")\n",
    "s[::2]"
   ]
  },
  {
   "cell_type": "code",
   "execution_count": null,
   "metadata": {},
   "outputs": [],
   "source": [
    "#3 Ans\n",
    "\n",
    "a=[1,2,3,4,5,6,7]\n",
    "    for i in numbers:\n",
    "    print(i*i)"
   ]
  },
  {
   "cell_type": "markdown",
   "metadata": {},
   "source": [
    "#5\n",
    "probability of both card  being king=4/52*3/51\n",
    "                            =1/221\n",
    "                            =0.4525%\n"
   ]
  },
  {
   "cell_type": "code",
   "execution_count": null,
   "metadata": {},
   "outputs": [],
   "source": []
  },
  {
   "cell_type": "code",
   "execution_count": null,
   "metadata": {},
   "outputs": [],
   "source": [
    "#4\n",
    "\n",
    "days=['sun','mon','tues','wen','thur','fri','sat']\n",
    "tempC=[30.5,32.6,31.8,33.4,29.8,30.2,29.9]\n",
    "C={i:j for i,j in zip(day.tempC)}\n",
    "print(C)"
   ]
  },
  {
   "cell_type": "code",
   "execution_count": null,
   "metadata": {},
   "outputs": [],
   "source": [
    "#2\n",
    "a=[12,75,150,180,145,525,50]\n",
    "for i in numbers:\n",
    "    \n",
    "    if a%5 ==0:\n",
    "        if i >150:\n",
    "            continue\n",
    "        elif i >500:\n",
    "            break\n",
    "        else:\n",
    "            print(i)\n"
   ]
  },
  {
   "cell_type": "code",
   "execution_count": null,
   "metadata": {},
   "outputs": [],
   "source": [
    "#6 Ans \n",
    "    # Method overriding is  if the same method is defined in both the superclass and the subclass, then the method of\n",
    "#    the subclass class overrides the method of the superclass. This is known as method overriding.\n",
    "     #when you have two methods with the same name that each perform different tasks. \n",
    "    \n",
    "    #ex:\n",
    "class car:\n",
    "    def speed(self):\n",
    "        print('Hello, I am the parent class')\n",
    "\n",
    "class ferreri(car):\n",
    "    def speed(self):\n",
    "        print('Hello, I am the child class')\n",
    "        \n",
    "print('overriding in each other')\n",
    "\n",
    "a=ferreri()\n",
    "a.speed\n",
    "\n",
    "\n",
    "#a=car()\n",
    "#a.speed\n",
    "\n"
   ]
  },
  {
   "cell_type": "code",
   "execution_count": null,
   "metadata": {},
   "outputs": [],
   "source": [
    "#7\n",
    "t=int(input('enter a number'))\n",
    "if t%5 ==0 & t%7 ==0:\n",
    "    print(\"number is divisible by 5 and 7\")\n",
    "else:\n",
    "    print(\"number is not divisible by 5 and 7\")"
   ]
  },
  {
   "cell_type": "code",
   "execution_count": null,
   "metadata": {},
   "outputs": [],
   "source": [
    "8 Ans\n",
    "\n",
    "a)uniform distribution\n",
    "b)poisson  distribution\n",
    "c)bernoulli distribution\n",
    "d)exponential distribution\n",
    "e)normal distribution\n",
    "f)bionomial distribution\n",
    "g)probability distribution\n"
   ]
  },
  {
   "cell_type": "code",
   "execution_count": null,
   "metadata": {},
   "outputs": [],
   "source": [
    "9 Ans \n",
    " central limit theorem(CLT):\n",
    "        central limit theorem mean , mode and median are nearly equal\n",
    "        with the the help clt we can calculate the probability percentage\n",
    "        it help us the inference about the sample and population prameter\n",
    "        it is distribute in 6 part in (mu-3d)(mu-2d)(mu-d)(mu+d)(mu+2d)(mu+3d)\n",
    "        The central limit theorem (CLT) states that the distribution of sample means\n",
    "        approximates a normal distribution as the sample size  \n",
    "        \n",
    "        \n",
    "        standard deviation  mu+d/mu-D   mu+2d/mu-2D      mu+d/mu-D\n",
    "        percentage             68%          95.5%           99.9%\n",
    "        \n",
    "        \n",
    "        Ul=mu+sigma\n",
    "        ll=mu-sigma"
   ]
  },
  {
   "cell_type": "code",
   "execution_count": null,
   "metadata": {},
   "outputs": [],
   "source": [
    "#10\n",
    "num1 = int(input(\"Enter First Number: \"))\n",
    "num2 = int(input(\"Enter Second Number: \"))\n",
    "\n",
    "print(\"which opration want to perform?\")\n",
    "ch = input(\"Enter any of these char for specific operation +,-,*,/: \")\n",
    "\n",
    "result = 0\n",
    "if ch == '+':\n",
    "    result = num1 + num2\n",
    "elif ch == '-':\n",
    "    result = num1 - num2\n",
    "elif ch == '*':\n",
    "    result = num1 * num2\n",
    "else:\n",
    "    print(\"Function not define!\")\n",
    "\n",
    "print(num1, ch , num2, \":\", result)    \n",
    "    "
   ]
  },
  {
   "cell_type": "code",
   "execution_count": null,
   "metadata": {},
   "outputs": [],
   "source": [
    "market=pd.read_csv(\"supermarket_sales - Sheet1.csv\")\n",
    "market\n"
   ]
  },
  {
   "cell_type": "code",
   "execution_count": null,
   "metadata": {},
   "outputs": [],
   "source": [
    "market.drop(['Invoice ID'],axis=1)\n",
    "market.drop(['Date'],axis=1)\n",
    "market.drop(['Time'],axis=1)"
   ]
  },
  {
   "cell_type": "code",
   "execution_count": null,
   "metadata": {},
   "outputs": [],
   "source": [
    "plt.figure(figsize=(12,7))"
   ]
  },
  {
   "cell_type": "code",
   "execution_count": null,
   "metadata": {},
   "outputs": [],
   "source": [
    "market_num=market.select_dtypes(exclude=object)\n",
    "market_num"
   ]
  },
  {
   "cell_type": "code",
   "execution_count": null,
   "metadata": {},
   "outputs": [],
   "source": [
    "market.corr()"
   ]
  },
  {
   "cell_type": "code",
   "execution_count": null,
   "metadata": {},
   "outputs": [],
   "source": [
    "corr=market.corr()\n",
    "sns.heatmap(corr,cmap=['yellow','green','blue','red'],vmin=-5,vmax=0.6,annot=True)\n",
    "plt.show()"
   ]
  },
  {
   "cell_type": "code",
   "execution_count": null,
   "metadata": {},
   "outputs": [],
   "source": []
  },
  {
   "cell_type": "code",
   "execution_count": null,
   "metadata": {},
   "outputs": [],
   "source": []
  },
  {
   "cell_type": "code",
   "execution_count": null,
   "metadata": {},
   "outputs": [],
   "source": []
  },
  {
   "cell_type": "code",
   "execution_count": null,
   "metadata": {},
   "outputs": [],
   "source": []
  }
 ],
 "metadata": {
  "kernelspec": {
   "display_name": "Python 3",
   "language": "python",
   "name": "python3"
  },
  "language_info": {
   "codemirror_mode": {
    "name": "ipython",
    "version": 3
   },
   "file_extension": ".py",
   "mimetype": "text/x-python",
   "name": "python",
   "nbconvert_exporter": "python",
   "pygments_lexer": "ipython3",
   "version": "3.8.5"
  }
 },
 "nbformat": 4,
 "nbformat_minor": 4
}
